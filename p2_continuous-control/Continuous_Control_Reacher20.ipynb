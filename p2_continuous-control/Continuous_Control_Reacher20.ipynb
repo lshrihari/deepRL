{
 "cells": [
  {
   "cell_type": "markdown",
   "metadata": {},
   "source": [
    "# Continuous Control\n",
    "\n",
    "\n",
    "### 1. Start the Environment\n",
    "\n",
    "We begin by importing the necessary packages.  If the code cell below returns an error, please revisit the project instructions to double-check that you have installed [Unity ML-Agents](https://github.com/Unity-Technologies/ml-agents/blob/master/docs/Installation.md) and [NumPy](http://www.numpy.org/)."
   ]
  },
  {
   "cell_type": "raw",
   "metadata": {},
   "source": [
    "!pip -q install ../python"
   ]
  },
  {
   "cell_type": "code",
   "execution_count": 2,
   "metadata": {},
   "outputs": [],
   "source": [
    "from unityagents import UnityEnvironment\n",
    "import numpy as np\n",
    "import random\n",
    "import torch\n",
    "from collections import deque\n",
    "import json\n",
    "\n",
    "from matplotlib import pyplot as plt\n",
    "%matplotlib inline\n",
    "\n",
    "from ddpg_agent import Agent"
   ]
  },
  {
   "cell_type": "markdown",
   "metadata": {},
   "source": [
    "Next, we will start the environment!  **_Before running the code cell below_**, change the `file_name` parameter to match the location of the Unity environment that you downloaded.\n",
    "\n",
    "- **Mac**: `\"path/to/Reacher.app\"`\n",
    "- **Windows** (x86): `\"path/to/Reacher_Windows_x86/Reacher.exe\"`\n",
    "- **Windows** (x86_64): `\"path/to/Reacher_Windows_x86_64/Reacher.exe\"`\n",
    "- **Linux** (x86): `\"path/to/Reacher_Linux/Reacher.x86\"`\n",
    "- **Linux** (x86_64): `\"path/to/Reacher_Linux/Reacher.x86_64\"`\n",
    "- **Linux** (x86, headless): `\"path/to/Reacher_Linux_NoVis/Reacher.x86\"`\n",
    "- **Linux** (x86_64, headless): `\"path/to/Reacher_Linux_NoVis/Reacher.x86_64\"`\n",
    "\n",
    "For instance, if you are using a Mac, then you downloaded `Reacher.app`.  If this file is in the same folder as the notebook, then the line below should appear as follows:\n",
    "```\n",
    "env = UnityEnvironment(file_name=\"Reacher.app\")\n",
    "```"
   ]
  },
  {
   "cell_type": "code",
   "execution_count": 3,
   "metadata": {},
   "outputs": [
    {
     "name": "stderr",
     "output_type": "stream",
     "text": [
      "INFO:unityagents:\n",
      "'Academy' started successfully!\n",
      "Unity Academy name: Academy\n",
      "        Number of Brains: 1\n",
      "        Number of External Brains : 1\n",
      "        Lesson number : 0\n",
      "        Reset Parameters :\n",
      "\t\tgoal_speed -> 1.0\n",
      "\t\tgoal_size -> 5.0\n",
      "Unity brain name: ReacherBrain\n",
      "        Number of Visual Observations (per agent): 0\n",
      "        Vector Observation space type: continuous\n",
      "        Vector Observation space size (per agent): 33\n",
      "        Number of stacked Vector Observation: 1\n",
      "        Vector Action space type: continuous\n",
      "        Vector Action space size (per agent): 4\n",
      "        Vector Action descriptions: , , , \n"
     ]
    }
   ],
   "source": [
    "#env = UnityEnvironment(file_name='../Reacher_Windows_x86_64/Reacher.exe')\n",
    "env = UnityEnvironment(file_name='../Reacher_Linux/Reacher.x86_64')"
   ]
  },
  {
   "cell_type": "markdown",
   "metadata": {},
   "source": [
    "Environments contain **_brains_** which are responsible for deciding the actions of their associated agents. Here we check for the first brain available, and set it as the default brain we will be controlling from Python."
   ]
  },
  {
   "cell_type": "code",
   "execution_count": 4,
   "metadata": {},
   "outputs": [
    {
     "name": "stdout",
     "output_type": "stream",
     "text": [
      "ReacherBrain\n",
      "Unity brain name: ReacherBrain\n",
      "        Number of Visual Observations (per agent): 0\n",
      "        Vector Observation space type: continuous\n",
      "        Vector Observation space size (per agent): 33\n",
      "        Number of stacked Vector Observation: 1\n",
      "        Vector Action space type: continuous\n",
      "        Vector Action space size (per agent): 4\n",
      "        Vector Action descriptions: , , , \n"
     ]
    }
   ],
   "source": [
    "# get the default brain\n",
    "brain_name = env.brain_names[0]\n",
    "print(brain_name)\n",
    "brain = env.brains[brain_name]\n",
    "print(brain)"
   ]
  },
  {
   "cell_type": "markdown",
   "metadata": {},
   "source": [
    "### 2. Examine the State and Action Spaces\n",
    "\n",
    "In this environment, a double-jointed arm can move to target locations. A reward of `+0.1` is provided for each step that the agent's hand is in the goal location. Thus, the goal of your agent is to maintain its position at the target location for as many time steps as possible.\n",
    "\n",
    "The observation space consists of `33` variables corresponding to position, rotation, velocity, and angular velocities of the arm.  Each action is a vector with four numbers, corresponding to torque applicable to two joints.  Every entry in the action vector must be a number between `-1` and `1`.\n",
    "\n",
    "Run the code cell below to print some information about the environment."
   ]
  },
  {
   "cell_type": "code",
   "execution_count": 5,
   "metadata": {},
   "outputs": [
    {
     "name": "stdout",
     "output_type": "stream",
     "text": [
      "Number of agents: 20\n",
      "Size of each action: 4\n",
      "There are 20 agents. Each observes a state with length: 33\n",
      "The state for the first agent looks like: [  0.00000000e+00  -4.00000000e+00   0.00000000e+00   1.00000000e+00\n",
      "  -0.00000000e+00  -0.00000000e+00  -4.37113883e-08   0.00000000e+00\n",
      "   0.00000000e+00   0.00000000e+00   0.00000000e+00   0.00000000e+00\n",
      "   0.00000000e+00   0.00000000e+00  -1.00000000e+01   0.00000000e+00\n",
      "   1.00000000e+00  -0.00000000e+00  -0.00000000e+00  -4.37113883e-08\n",
      "   0.00000000e+00   0.00000000e+00   0.00000000e+00   0.00000000e+00\n",
      "   0.00000000e+00   0.00000000e+00   5.75471878e+00  -1.00000000e+00\n",
      "   5.55726624e+00   0.00000000e+00   1.00000000e+00   0.00000000e+00\n",
      "  -1.68164849e-01]\n"
     ]
    }
   ],
   "source": [
    "# reset the environment\n",
    "env_info = env.reset(train_mode=True)[brain_name]\n",
    "\n",
    "# number of agents\n",
    "num_agents = len(env_info.agents)\n",
    "print('Number of agents:', num_agents)\n",
    "\n",
    "# size of each action\n",
    "action_size = brain.vector_action_space_size\n",
    "print('Size of each action:', action_size)\n",
    "\n",
    "# examine the state space \n",
    "states = env_info.vector_observations\n",
    "state_size = states.shape[1]\n",
    "print('There are {} agents. Each observes a state with length: {}'.format(states.shape[0], state_size))\n",
    "print('The state for the first agent looks like:', states[0])"
   ]
  },
  {
   "cell_type": "markdown",
   "metadata": {},
   "source": [
    "### Instantiate agent (seed is fixed to some value)"
   ]
  },
  {
   "cell_type": "code",
   "execution_count": 6,
   "metadata": {},
   "outputs": [],
   "source": [
    "agent = Agent(state_size, action_size, num_agents, random_seed=0)"
   ]
  },
  {
   "cell_type": "markdown",
   "metadata": {},
   "source": [
    "### DDPG learning of agent's policy for given task"
   ]
  },
  {
   "cell_type": "code",
   "execution_count": 7,
   "metadata": {},
   "outputs": [
    {
     "name": "stdout",
     "output_type": "stream",
     "text": [
      "\n",
      "Episode 1\tAverage score: 0.52\tScore 0.52\n",
      "Episode 2\tAverage score: 0.31\tScore 0.10\n",
      "Episode 3\tAverage score: 0.25\tScore 0.14\n",
      "Episode 4\tAverage score: 0.42\tScore 0.91\n",
      "Episode 5\tAverage score: 0.53\tScore 0.99\n",
      "Episode 6\tAverage score: 0.67\tScore 1.34\n",
      "Episode 7\tAverage score: 0.82\tScore 1.78\n",
      "Episode 8\tAverage score: 0.96\tScore 1.90\n",
      "Episode 9\tAverage score: 1.08\tScore 2.04\n",
      "Episode 10\tAverage score: 1.16\tScore 1.87\n",
      "Episode 11\tAverage score: 1.26\tScore 2.29\n",
      "Episode 12\tAverage score: 1.36\tScore 2.47\n",
      "Episode 13\tAverage score: 1.43\tScore 2.29\n",
      "Episode 14\tAverage score: 1.53\tScore 2.82\n",
      "Episode 15\tAverage score: 1.63\tScore 3.02\n",
      "Episode 16\tAverage score: 1.81\tScore 4.48\n",
      "Episode 17\tAverage score: 1.97\tScore 4.47\n",
      "Episode 18\tAverage score: 2.16\tScore 5.38\n",
      "Episode 19\tAverage score: 2.36\tScore 6.09\n",
      "Episode 20\tAverage score: 2.53\tScore 5.72\n",
      "Episode 21\tAverage score: 2.78\tScore 7.74\n",
      "Episode 22\tAverage score: 3.07\tScore 9.07\n",
      "Episode 23\tAverage score: 3.46\tScore 12.22\n",
      "Episode 24\tAverage score: 3.83\tScore 12.27\n",
      "Episode 25\tAverage score: 4.25\tScore 14.36\n",
      "Episode 26\tAverage score: 4.80\tScore 18.42\n",
      "Episode 27\tAverage score: 5.53\tScore 24.72\n",
      "Episode 28\tAverage score: 6.33\tScore 27.69\n",
      "Episode 29\tAverage score: 7.16\tScore 30.53\n",
      "Episode 30\tAverage score: 7.99\tScore 31.98\n",
      "Episode 31\tAverage score: 8.86\tScore 35.12\n",
      "Episode 32\tAverage score: 9.71\tScore 36.12\n",
      "Episode 33\tAverage score: 10.52\tScore 36.44\n",
      "Episode 34\tAverage score: 11.29\tScore 36.40\n",
      "Episode 35\tAverage score: 11.99\tScore 36.06\n",
      "Episode 36\tAverage score: 12.69\tScore 36.91\n",
      "Episode 37\tAverage score: 13.35\tScore 37.17\n",
      "Episode 38\tAverage score: 13.97\tScore 36.94\n",
      "Episode 39\tAverage score: 14.56\tScore 36.90\n",
      "Episode 40\tAverage score: 15.12\tScore 36.91\n",
      "Episode 41\tAverage score: 15.65\tScore 36.85\n",
      "Episode 42\tAverage score: 16.17\tScore 37.66\n",
      "Episode 43\tAverage score: 16.66\tScore 37.10\n",
      "Episode 44\tAverage score: 17.13\tScore 37.58\n",
      "Episode 45\tAverage score: 17.59\tScore 37.62\n",
      "Episode 46\tAverage score: 18.03\tScore 37.90\n",
      "Episode 47\tAverage score: 18.45\tScore 37.61\n",
      "Episode 48\tAverage score: 18.85\tScore 37.80\n",
      "Episode 49\tAverage score: 19.23\tScore 37.44\n",
      "Episode 50\tAverage score: 19.59\tScore 37.17\n",
      "Episode 51\tAverage score: 19.94\tScore 37.47\n",
      "Episode 52\tAverage score: 20.27\tScore 37.31\n",
      "Episode 53\tAverage score: 20.59\tScore 37.12\n",
      "Episode 54\tAverage score: 20.90\tScore 37.17\n",
      "Episode 55\tAverage score: 21.19\tScore 37.03\n",
      "Episode 56\tAverage score: 21.47\tScore 37.03\n",
      "Episode 57\tAverage score: 21.74\tScore 36.75\n",
      "Episode 58\tAverage score: 22.01\tScore 37.19\n",
      "Episode 59\tAverage score: 22.27\tScore 37.50\n",
      "Episode 60\tAverage score: 22.52\tScore 37.25\n",
      "Episode 61\tAverage score: 22.76\tScore 37.07\n",
      "Episode 62\tAverage score: 22.96\tScore 35.45\n",
      "Episode 63\tAverage score: 23.16\tScore 35.61\n",
      "Episode 64\tAverage score: 23.37\tScore 36.09\n",
      "Episode 65\tAverage score: 23.55\tScore 35.14\n",
      "Episode 66\tAverage score: 23.74\tScore 36.52\n",
      "Episode 67\tAverage score: 23.93\tScore 36.24\n",
      "Episode 68\tAverage score: 24.10\tScore 35.68\n",
      "Episode 69\tAverage score: 24.28\tScore 36.25\n",
      "Episode 70\tAverage score: 24.45\tScore 36.34\n",
      "Episode 71\tAverage score: 24.62\tScore 36.14\n",
      "Episode 72\tAverage score: 24.79\tScore 37.23\n",
      "Episode 73\tAverage score: 24.96\tScore 37.05\n",
      "Episode 74\tAverage score: 25.11\tScore 36.09\n",
      "Episode 75\tAverage score: 25.26\tScore 36.65\n",
      "Episode 76\tAverage score: 25.41\tScore 36.57\n",
      "Episode 77\tAverage score: 25.53\tScore 34.40\n",
      "Episode 78\tAverage score: 25.66\tScore 35.99\n",
      "Episode 79\tAverage score: 25.77\tScore 34.43\n",
      "Episode 80\tAverage score: 25.89\tScore 34.75\n",
      "Episode 81\tAverage score: 26.01\tScore 36.30\n",
      "Episode 82\tAverage score: 26.13\tScore 35.70\n",
      "Episode 83\tAverage score: 26.26\tScore 36.69\n",
      "Episode 84\tAverage score: 26.39\tScore 36.80\n",
      "Episode 85\tAverage score: 26.52\tScore 37.64\n",
      "Episode 86\tAverage score: 26.63\tScore 36.27\n",
      "Episode 87\tAverage score: 26.74\tScore 36.49\n",
      "Episode 88\tAverage score: 26.86\tScore 37.01\n",
      "Episode 89\tAverage score: 26.96\tScore 35.72\n",
      "Episode 90\tAverage score: 27.07\tScore 36.68\n",
      "Episode 91\tAverage score: 27.17\tScore 36.52\n",
      "Episode 92\tAverage score: 27.28\tScore 36.72\n",
      "Episode 93\tAverage score: 27.38\tScore 36.87\n",
      "Episode 94\tAverage score: 27.48\tScore 36.51\n",
      "Episode 95\tAverage score: 27.57\tScore 36.52\n",
      "Episode 96\tAverage score: 27.66\tScore 36.42\n",
      "Episode 97\tAverage score: 27.76\tScore 36.94\n",
      "Episode 98\tAverage score: 27.85\tScore 36.76\n",
      "Episode 99\tAverage score: 27.94\tScore 36.47\n",
      "Episode 100\tAverage score: 28.04\tScore 37.72\n",
      "Episode 101\tAverage score: 28.41\tScore 37.51\n",
      "Episode 102\tAverage score: 28.78\tScore 37.20\n",
      "Episode 103\tAverage score: 29.15\tScore 37.08\n",
      "Episode 104\tAverage score: 29.50\tScore 35.81\n",
      "Episode 105\tAverage score: 29.85\tScore 36.04\n",
      "Episode 106\tAverage score: 30.20\tScore 36.52\n",
      "Episode 106\tAverage score: 30.20\n",
      "\n",
      "\n",
      "Environment solved in 106 episodes\n",
      "\n"
     ]
    }
   ],
   "source": [
    "def ddpg(n_episodes=1000, max_t=5000):\n",
    "    scores_deque = deque(maxlen=100)\n",
    "    scores = []\n",
    "    max_score = -np.Inf\n",
    "    \n",
    "    for i_episode in range(1, n_episodes+1):\n",
    "        env_info = env.reset(train_mode=True)[brain_name]\n",
    "        agent.reset()\n",
    "        \n",
    "        state = env_info.vector_observations            # get the current state\n",
    "        score = np.zeros(num_agents)\n",
    "\n",
    "        #for t in range(max_t):\n",
    "        while True:\n",
    "            action = agent.act(state)\n",
    "            env_info = env.step(action)[brain_name]\n",
    "            next_state = env_info.vector_observations\n",
    "            reward = env_info.rewards\n",
    "            done = env_info.local_done\n",
    "            agent.step(state, action, reward, next_state, done)\n",
    "            state = next_state\n",
    "            score += reward\n",
    "            if np.any(done):\n",
    "                break\n",
    "        \n",
    "        score = np.mean(score)\n",
    "        scores_deque.append(score)\n",
    "        scores.append(score)\n",
    "        print('\\nEpisode {}\\tAverage score: {:.2f}\\tScore {:.2f}'.format(i_episode, np.mean(scores_deque), \n",
    "                                                                         score), end=\"\")\n",
    "        \n",
    "        if np.mean(scores_deque) > 30:\n",
    "            print('\\nEpisode {}\\tAverage score: {:.2f}'.format(i_episode, np.mean(scores_deque)))\n",
    "            print('\\n\\nEnvironment solved in %d episodes\\n' % i_episode)\n",
    "            \n",
    "            torch.save(agent.actor_local.state_dict(), 'checkpoint_actor.pth')\n",
    "            torch.save(agent.critic_local.state_dict(), 'checkpoint_critic.pth')\n",
    "            \n",
    "            # save scores and break\n",
    "            with open('scores.json', 'w') as f:\n",
    "                json.dump(scores, f)\n",
    "            f.close()\n",
    "            break\n",
    "            \n",
    "    return scores\n",
    "\n",
    "scores = ddpg()"
   ]
  },
  {
   "cell_type": "markdown",
   "metadata": {},
   "source": [
    "### Plot scores"
   ]
  },
  {
   "cell_type": "code",
   "execution_count": 8,
   "metadata": {},
   "outputs": [
    {
     "data": {
      "image/png": "[encoded data removed]",
      "text/plain": [
       "<matplotlib.figure.Figure at 0x7f52180da9b0>"
      ]
     },
     "metadata": {
      "needs_background": "light"
     },
     "output_type": "display_data"
    }
   ],
   "source": [
    "fig = plt.figure()\n",
    "ax = fig.add_subplot(111)\n",
    "plt.plot(np.arange(len(scores))+1, scores)\n",
    "plt.ylabel('Score')\n",
    "plt.xlabel('Episode #')\n",
    "plt.show()"
   ]
  },
  {
   "cell_type": "markdown",
   "metadata": {},
   "source": [
    "### Test the trained agent"
   ]
  },
  {
   "cell_type": "raw",
   "metadata": {},
   "source": [
    "agent.actor_local.load_state_dict(torch.load('saved/checkpoint_actor.pth'))\n",
    "agent.critic_local.load_state_dict(torch.load('saved/checkpoint_critic.pth'))\n",
    "\n",
    "env_info = env.reset(train_mode=False)[brain_name] # reset the environment\n",
    "state = env_info.vector_observations               # get the current state\n",
    "score = np.zeros(num_agents)                       # initialize the score\n",
    "\n",
    "while True:\n",
    "    action = agent.act(state, add_noise=False)     # select an action\n",
    "    env_info = env.step(action)[brain_name]        # send the action to the environment\n",
    "    next_state = env_info.vector_observations      # get the next state\n",
    "    reward = env_info.rewards                      # get the reward\n",
    "    done = env_info.local_done                     # see if episode has finished\n",
    "    score += reward                                # update the score\n",
    "    state = next_state                             # roll over state to next time step\n",
    "    if done:                                       # exit loop if episode finished\n",
    "        break\n",
    "\n",
    "print(\"Score: {}\".format(score))"
   ]
  },
  {
   "cell_type": "markdown",
   "metadata": {},
   "source": [
    "When finished, you can close the environment."
   ]
  },
  {
   "cell_type": "code",
   "execution_count": 9,
   "metadata": {},
   "outputs": [],
   "source": [
    "env.close()"
   ]
  }
 ],
 "metadata": {
  "kernelspec": {
   "display_name": "Python 3",
   "language": "python",
   "name": "python3"
  },
  "language_info": {
   "codemirror_mode": {
    "name": "ipython",
    "version": 3
   },
   "file_extension": ".py",
   "mimetype": "text/x-python",
   "name": "python",
   "nbconvert_exporter": "python",
   "pygments_lexer": "ipython3",
   "version": "3.6.9"
  }
 },
 "nbformat": 4,
 "nbformat_minor": 2
}
