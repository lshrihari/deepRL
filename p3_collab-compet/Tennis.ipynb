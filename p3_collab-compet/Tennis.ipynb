{
 "cells": [
  {
   "cell_type": "markdown",
   "metadata": {},
   "source": [
    "# Collaboration and Competition\n",
    "\n",
    "---\n",
    "\n",
    "### 1. Start the Environment\n",
    "\n",
    "We begin by importing the necessary packages.  If the code cell below returns an error, please revisit the project instructions to double-check that you have installed [Unity ML-Agents](https://github.com/Unity-Technologies/ml-agents/blob/master/docs/Installation.md) and [NumPy](http://www.numpy.org/)."
   ]
  },
  {
   "cell_type": "code",
   "execution_count": 1,
   "metadata": {},
   "outputs": [
    {
     "name": "stdout",
     "output_type": "stream",
     "text": [
      "\u001b[31mtensorflow 1.7.1 has requirement numpy>=1.13.3, but you'll have numpy 1.12.1 which is incompatible.\u001b[0m\r\n",
      "\u001b[31mipython 6.5.0 has requirement prompt-toolkit<2.0.0,>=1.0.15, but you'll have prompt-toolkit 2.0.10 which is incompatible.\u001b[0m\r\n"
     ]
    }
   ],
   "source": [
    "!pip -q install ./python"
   ]
  },
  {
   "cell_type": "code",
   "execution_count": 2,
   "metadata": {},
   "outputs": [],
   "source": [
    "from unityagents import UnityEnvironment\n",
    "import numpy as np\n",
    "\n",
    "import random\n",
    "import torch\n",
    "from collections import deque\n",
    "import json\n",
    "\n",
    "from matplotlib import pyplot as plt\n",
    "%matplotlib inline\n",
    "\n",
    "from ddpg_agent import Agent"
   ]
  },
  {
   "cell_type": "markdown",
   "metadata": {},
   "source": [
    "Next, we will start the environment!  **_Before running the code cell below_**, change the `file_name` parameter to match the location of the Unity environment that you downloaded.\n",
    "\n",
    "- **Mac**: `\"path/to/Tennis.app\"`\n",
    "- **Windows** (x86): `\"path/to/Tennis_Windows_x86/Tennis.exe\"`\n",
    "- **Windows** (x86_64): `\"path/to/Tennis_Windows_x86_64/Tennis.exe\"`\n",
    "- **Linux** (x86): `\"path/to/Tennis_Linux/Tennis.x86\"`\n",
    "- **Linux** (x86_64): `\"path/to/Tennis_Linux/Tennis.x86_64\"`\n",
    "- **Linux** (x86, headless): `\"path/to/Tennis_Linux_NoVis/Tennis.x86\"`\n",
    "- **Linux** (x86_64, headless): `\"path/to/Tennis_Linux_NoVis/Tennis.x86_64\"`\n",
    "\n",
    "For instance, if you are using a Mac, then you downloaded `Tennis.app`.  If this file is in the same folder as the notebook, then the line below should appear as follows:\n",
    "```\n",
    "env = UnityEnvironment(file_name=\"Tennis.app\")\n",
    "```"
   ]
  },
  {
   "cell_type": "code",
   "execution_count": 3,
   "metadata": {},
   "outputs": [
    {
     "name": "stderr",
     "output_type": "stream",
     "text": [
      "INFO:unityagents:\n",
      "'Academy' started successfully!\n",
      "Unity Academy name: Academy\n",
      "        Number of Brains: 1\n",
      "        Number of External Brains : 1\n",
      "        Lesson number : 0\n",
      "        Reset Parameters :\n",
      "\t\t\n",
      "Unity brain name: TennisBrain\n",
      "        Number of Visual Observations (per agent): 0\n",
      "        Vector Observation space type: continuous\n",
      "        Vector Observation space size (per agent): 8\n",
      "        Number of stacked Vector Observation: 3\n",
      "        Vector Action space type: continuous\n",
      "        Vector Action space size (per agent): 2\n",
      "        Vector Action descriptions: , \n"
     ]
    }
   ],
   "source": [
    "#env = UnityEnvironment(file_name=\"../Tennis_Windows_x86_64/Tennis.exe\")\n",
    "env = UnityEnvironment(file_name=\"/data/Tennis_Linux_NoVis/Tennis\")"
   ]
  },
  {
   "cell_type": "markdown",
   "metadata": {},
   "source": [
    "Environments contain **_brains_** which are responsible for deciding the actions of their associated agents. Here we check for the first brain available, and set it as the default brain we will be controlling from Python."
   ]
  },
  {
   "cell_type": "code",
   "execution_count": 4,
   "metadata": {},
   "outputs": [
    {
     "name": "stdout",
     "output_type": "stream",
     "text": [
      "TennisBrain\n",
      "Unity brain name: TennisBrain\n",
      "        Number of Visual Observations (per agent): 0\n",
      "        Vector Observation space type: continuous\n",
      "        Vector Observation space size (per agent): 8\n",
      "        Number of stacked Vector Observation: 3\n",
      "        Vector Action space type: continuous\n",
      "        Vector Action space size (per agent): 2\n",
      "        Vector Action descriptions: , \n"
     ]
    }
   ],
   "source": [
    "# get the default brain\n",
    "brain_name = env.brain_names[0]\n",
    "print(brain_name)\n",
    "brain = env.brains[brain_name]\n",
    "print(brain)"
   ]
  },
  {
   "cell_type": "markdown",
   "metadata": {},
   "source": [
    "### 2. Examine the State and Action Spaces\n",
    "\n",
    "In this environment, two agents control rackets to bounce a ball over a net. If an agent hits the ball over the net, it receives a reward of +0.1.  If an agent lets a ball hit the ground or hits the ball out of bounds, it receives a reward of -0.01.  Thus, the goal of each agent is to keep the ball in play.\n",
    "\n",
    "The observation space consists of 8 variables corresponding to the position and velocity of the ball and racket. Two continuous actions are available, corresponding to movement toward (or away from) the net, and jumping. \n",
    "\n",
    "Run the code cell below to print some information about the environment."
   ]
  },
  {
   "cell_type": "code",
   "execution_count": 5,
   "metadata": {},
   "outputs": [
    {
     "name": "stdout",
     "output_type": "stream",
     "text": [
      "Number of agents: 2\n",
      "Size of each action: 2\n",
      "There are 2 agents. Each observes a state with length: 24\n",
      "The state for the first agent looks like: [ 0.          0.          0.          0.          0.          0.          0.\n",
      "  0.          0.          0.          0.          0.          0.          0.\n",
      "  0.          0.         -6.65278625 -1.5        -0.          0.\n",
      "  6.83172083  6.         -0.          0.        ]\n"
     ]
    }
   ],
   "source": [
    "# reset the environment\n",
    "env_info = env.reset(train_mode=True)[brain_name]\n",
    "\n",
    "# number of agents \n",
    "num_agents = len(env_info.agents)\n",
    "print('Number of agents:', num_agents)\n",
    "\n",
    "# size of each action\n",
    "action_size = brain.vector_action_space_size\n",
    "print('Size of each action:', action_size)\n",
    "\n",
    "# examine the state space \n",
    "states = env_info.vector_observations\n",
    "state_size = states.shape[1]\n",
    "print('There are {} agents. Each observes a state with length: {}'.format(states.shape[0], state_size))\n",
    "print('The state for the first agent looks like:', states[0])"
   ]
  },
  {
   "cell_type": "code",
   "execution_count": 6,
   "metadata": {},
   "outputs": [],
   "source": [
    "agent = Agent(state_size, action_size, num_agents, random_seed=0)"
   ]
  },
  {
   "cell_type": "raw",
   "metadata": {},
   "source": [
    "### 3. Take Random Actions in the Environment\n",
    "for i in range(1, 11):                                     # play game for 5 episodes\n",
    "    env_info = env.reset(train_mode=False)[brain_name]     # reset the environment    \n",
    "    states = env_info.vector_observations                  # get the current state (for each agent)\n",
    "    scores = np.zeros(num_agents)                          # initialize the score (for each agent)\n",
    "    while True:\n",
    "        actions = np.random.randn(num_agents, action_size) # select an action (for each agent)\n",
    "        actions = np.clip(actions, -1, 1)                  # all actions between -1 and 1\n",
    "        env_info = env.step(actions)[brain_name]           # send all actions to tne environment\n",
    "        next_states = env_info.vector_observations         # get next state (for each agent)\n",
    "        rewards = env_info.rewards                         # get reward (for each agent)\n",
    "        dones = env_info.local_done                        # see if episode finished\n",
    "        scores += env_info.rewards                         # update the score (for each agent)\n",
    "        states = next_states                               # roll over states to next time step\n",
    "        if np.any(dones):                                  # exit loop if episode finished\n",
    "            break\n",
    "    print('Score (max over agents) from episode {}: {}'.format(i, np.max(scores)))"
   ]
  },
  {
   "cell_type": "code",
   "execution_count": 7,
   "metadata": {},
   "outputs": [
    {
     "name": "stdout",
     "output_type": "stream",
     "text": [
      "Episode 500\tAverage score: 0.01\tScore 0.10\n",
      "Episode 888\tAverage score: 0.51\tScore 1.20\n",
      "Episode 888\tAverage score: 0.51\tSaving checkpoint\n",
      "\n",
      "\n",
      "Environment solved in 888 episodes\n",
      "\n",
      "Episode 889\tAverage score: 0.51\tScore 0.29\n",
      "Episode 889\tAverage score: 0.51\tSaving checkpoint\n",
      "Episode 892\tAverage score: 0.51\tScore 0.50\n",
      "Episode 892\tAverage score: 0.51\tSaving checkpoint\n",
      "Episode 893\tAverage score: 0.52\tScore 1.10\n",
      "Episode 893\tAverage score: 0.52\tSaving checkpoint\n",
      "Episode 895\tAverage score: 0.52\tScore 0.29\n",
      "Episode 895\tAverage score: 0.52\tSaving checkpoint\n",
      "Episode 896\tAverage score: 0.54\tScore 1.79\n",
      "Episode 896\tAverage score: 0.54\tSaving checkpoint\n",
      "Episode 897\tAverage score: 0.54\tScore 0.40\n",
      "Episode 897\tAverage score: 0.54\tSaving checkpoint\n",
      "Episode 898\tAverage score: 0.54\tScore 0.20\n",
      "Episode 898\tAverage score: 0.54\tSaving checkpoint\n",
      "Episode 904\tAverage score: 0.54\tScore 0.60\n",
      "Episode 904\tAverage score: 0.54\tSaving checkpoint\n",
      "Episode 906\tAverage score: 0.54\tScore 0.20\n",
      "Episode 906\tAverage score: 0.54\tSaving checkpoint\n",
      "Episode 917\tAverage score: 0.54\tScore 0.59\n",
      "Episode 917\tAverage score: 0.54\tSaving checkpoint\n",
      "Episode 918\tAverage score: 0.57\tScore 2.60\n",
      "Episode 918\tAverage score: 0.57\tSaving checkpoint\n",
      "Episode 929\tAverage score: 0.57\tScore 0.70\n",
      "Episode 929\tAverage score: 0.57\tSaving checkpoint\n",
      "Episode 932\tAverage score: 0.59\tScore 1.60\n",
      "Episode 932\tAverage score: 0.59\tSaving checkpoint\n",
      "Episode 934\tAverage score: 0.59\tScore 1.10\n",
      "Episode 934\tAverage score: 0.59\tSaving checkpoint\n",
      "Episode 936\tAverage score: 0.59\tScore 0.50\n",
      "Episode 936\tAverage score: 0.59\tSaving checkpoint\n",
      "Episode 937\tAverage score: 0.62\tScore 2.60\n",
      "Episode 937\tAverage score: 0.62\tSaving checkpoint\n",
      "Episode 938\tAverage score: 0.62\tScore 0.20\n",
      "Episode 938\tAverage score: 0.62\tSaving checkpoint\n",
      "Episode 940\tAverage score: 0.62\tScore 0.40\n",
      "Episode 940\tAverage score: 0.62\tSaving checkpoint\n",
      "Episode 1000\tAverage score: 0.49\tScore 0.20\n",
      "Episode 1500\tAverage score: 0.21\tScore 0.10\n",
      "Episode 1891\tAverage score: 0.63\tScore 1.90\n",
      "Episode 1891\tAverage score: 0.63\tSaving checkpoint\n",
      "Episode 1892\tAverage score: 0.63\tScore 0.10\n",
      "Episode 1892\tAverage score: 0.63\tSaving checkpoint\n",
      "Episode 1893\tAverage score: 0.66\tScore 2.60\n",
      "Episode 1893\tAverage score: 0.66\tSaving checkpoint\n",
      "Episode 1894\tAverage score: 0.67\tScore 2.40\n",
      "Episode 1894\tAverage score: 0.67\tSaving checkpoint\n",
      "Episode 1895\tAverage score: 0.67\tScore 0.60\n",
      "Episode 1895\tAverage score: 0.67\tSaving checkpoint\n",
      "Episode 1896\tAverage score: 0.67\tScore 0.30\n",
      "Episode 1896\tAverage score: 0.67\tSaving checkpoint\n",
      "Episode 1899\tAverage score: 0.68\tScore 1.00\n",
      "Episode 1899\tAverage score: 0.68\tSaving checkpoint\n",
      "Episode 1900\tAverage score: 0.68\tScore 0.80\n",
      "Episode 1900\tAverage score: 0.68\tSaving checkpoint\n",
      "Episode 1901\tAverage score: 0.69\tScore 0.70\n",
      "Episode 1901\tAverage score: 0.69\tSaving checkpoint\n",
      "Episode 1902\tAverage score: 0.70\tScore 1.50\n",
      "Episode 1902\tAverage score: 0.70\tSaving checkpoint\n",
      "Episode 1903\tAverage score: 0.70\tScore 0.50\n",
      "Episode 1903\tAverage score: 0.70\tSaving checkpoint\n",
      "Episode 1904\tAverage score: 0.70\tScore 0.79\n",
      "Episode 1904\tAverage score: 0.70\tSaving checkpoint\n",
      "Episode 1907\tAverage score: 0.70\tScore 1.00\n",
      "Episode 1907\tAverage score: 0.70\tSaving checkpoint\n",
      "Episode 1914\tAverage score: 0.70\tScore 1.50\n",
      "Episode 1914\tAverage score: 0.70\tSaving checkpoint\n",
      "Episode 1988\tAverage score: 0.72\tScore 2.20\n",
      "Episode 1988\tAverage score: 0.72\tSaving checkpoint\n",
      "Episode 2000\tAverage score: 0.68\tScore 0.10\n",
      "Episode 2073\tAverage score: 0.72\tScore 1.30\n",
      "Episode 2073\tAverage score: 0.72\tSaving checkpoint\n",
      "Episode 2093\tAverage score: 0.72\tScore 0.80\n",
      "Episode 2093\tAverage score: 0.72\tSaving checkpoint\n",
      "Episode 2094\tAverage score: 0.72\tScore 0.69\n",
      "Episode 2094\tAverage score: 0.72\tSaving checkpoint\n",
      "Episode 2095\tAverage score: 0.73\tScore 0.60\n",
      "Episode 2095\tAverage score: 0.73\tSaving checkpoint\n",
      "Episode 2096\tAverage score: 0.73\tScore 1.40\n",
      "Episode 2096\tAverage score: 0.73\tSaving checkpoint\n",
      "Episode 2210\tAverage score: 0.75\tScore 2.60\n",
      "Episode 2210\tAverage score: 0.75\tSaving checkpoint\n",
      "Episode 2212\tAverage score: 0.75\tScore 1.50\n",
      "Episode 2212\tAverage score: 0.75\tSaving checkpoint\n",
      "Episode 2218\tAverage score: 0.75\tScore 1.50\n",
      "Episode 2218\tAverage score: 0.75\tSaving checkpoint\n",
      "Episode 2220\tAverage score: 0.76\tScore 1.20\n",
      "Episode 2220\tAverage score: 0.76\tSaving checkpoint\n",
      "Episode 2221\tAverage score: 0.77\tScore 0.80\n",
      "Episode 2221\tAverage score: 0.77\tSaving checkpoint\n",
      "Episode 2225\tAverage score: 0.78\tScore 1.80\n",
      "Episode 2225\tAverage score: 0.78\tSaving checkpoint\n",
      "Episode 2226\tAverage score: 0.79\tScore 1.80\n",
      "Episode 2226\tAverage score: 0.79\tSaving checkpoint\n",
      "Episode 2230\tAverage score: 0.79\tScore 2.00\n",
      "Episode 2230\tAverage score: 0.79\tSaving checkpoint\n",
      "Episode 2231\tAverage score: 0.80\tScore 1.00\n",
      "Episode 2231\tAverage score: 0.80\tSaving checkpoint\n",
      "Episode 2232\tAverage score: 0.81\tScore 0.70\n",
      "Episode 2232\tAverage score: 0.81\tSaving checkpoint\n",
      "Episode 2233\tAverage score: 0.82\tScore 1.20\n",
      "Episode 2233\tAverage score: 0.82\tSaving checkpoint\n",
      "Episode 2234\tAverage score: 0.82\tScore 0.70\n",
      "Episode 2234\tAverage score: 0.82\tSaving checkpoint\n",
      "Episode 2235\tAverage score: 0.82\tScore 0.40\n",
      "Episode 2235\tAverage score: 0.82\tSaving checkpoint\n",
      "Episode 2236\tAverage score: 0.83\tScore 2.20\n",
      "Episode 2236\tAverage score: 0.83\tSaving checkpoint\n",
      "Episode 2239\tAverage score: 0.84\tScore 1.00\n",
      "Episode 2239\tAverage score: 0.84\tSaving checkpoint\n",
      "Episode 2241\tAverage score: 0.84\tScore 0.29\n",
      "Episode 2241\tAverage score: 0.84\tSaving checkpoint\n",
      "Episode 2254\tAverage score: 0.84\tScore 0.80\n",
      "Episode 2254\tAverage score: 0.84\tSaving checkpoint\n",
      "Episode 2255\tAverage score: 0.85\tScore 1.40\n",
      "Episode 2255\tAverage score: 0.85\tSaving checkpoint\n",
      "Episode 2265\tAverage score: 0.85\tScore 1.00\n",
      "Episode 2265\tAverage score: 0.85\tSaving checkpoint\n",
      "Episode 2266\tAverage score: 0.86\tScore 0.60\n",
      "Episode 2266\tAverage score: 0.86\tSaving checkpoint\n",
      "Episode 2500\tAverage score: 0.74\tScore 0.30\n",
      "Episode 2748\tAverage score: 0.87\tScore 2.00\n",
      "Episode 2748\tAverage score: 0.87\tSaving checkpoint\n",
      "Episode 2753\tAverage score: 0.88\tScore 1.00\n",
      "Episode 2753\tAverage score: 0.88\tSaving checkpoint\n",
      "Episode 2754\tAverage score: 0.88\tScore 1.70\n",
      "Episode 2754\tAverage score: 0.88\tSaving checkpoint\n",
      "Episode 2756\tAverage score: 0.89\tScore 1.70\n",
      "Episode 2756\tAverage score: 0.89\tSaving checkpoint\n",
      "Episode 2757\tAverage score: 0.90\tScore 0.50\n",
      "Episode 2757\tAverage score: 0.90\tSaving checkpoint\n",
      "Episode 3000\tAverage score: 0.71\tScore 0.30\n"
     ]
    }
   ],
   "source": [
    "def ddpg(n_episodes=3000):\n",
    "    scores_deque = deque(maxlen=100)\n",
    "    scores = []\n",
    "    max_score = -np.Inf\n",
    "    \n",
    "    for i_episode in range(1, n_episodes+1):\n",
    "        env_info = env.reset(train_mode=True)[brain_name]\n",
    "        agent.reset()\n",
    "        state = env_info.vector_observations            # get the current state\n",
    "        score = np.zeros(num_agents)\n",
    "\n",
    "        while True:\n",
    "            action = agent.act(state)\n",
    "            env_info = env.step(action)[brain_name]\n",
    "            next_state = env_info.vector_observations\n",
    "            reward = env_info.rewards\n",
    "            done = env_info.local_done\n",
    "            agent.step(state, action, reward, next_state, done)\n",
    "            state = next_state\n",
    "            score += reward\n",
    "            if np.any(done):\n",
    "                break\n",
    "        \n",
    "        score = np.max(score)\n",
    "        scores_deque.append(score)\n",
    "        scores.append(score)\n",
    "\n",
    "        if i_episode % 500 == 0:\n",
    "            print('\\rEpisode {}\\tAverage score: {:.2f}\\tScore {:.2f}\\n'.format(i_episode, \n",
    "                                                                               np.mean(scores_deque), \n",
    "                                                                         score), end=\"\")\n",
    "        else:\n",
    "            print('\\rEpisode {}\\tAverage score: {:.2f}\\tScore {:.2f}'.format(i_episode, \n",
    "                                                                             np.mean(scores_deque), \n",
    "                                                                         score), end=\"\")\n",
    "            \n",
    "            \n",
    "        avg_score = np.mean(scores_deque)\n",
    "        if (avg_score >= 0.5) and (avg_score > max_score):          \n",
    "            \n",
    "            print('\\nEpisode {}\\tAverage score: {:.2f}\\tSaving checkpoint'.format(i_episode, avg_score))\n",
    "            if max_score == -np.Inf:\n",
    "                print('\\n\\nEnvironment solved in %d episodes\\n' % i_episode)\n",
    "            \n",
    "            max_score = avg_score\n",
    "            torch.save(agent.actor_local.state_dict(), 'checkpoint_actor.pth')\n",
    "            torch.save(agent.critic_local.state_dict(), 'checkpoint_critic.pth')\n",
    "            \n",
    "            # save scores and break/continue as desired\n",
    "            with open('scores.json', 'w') as f:\n",
    "                json.dump(scores, f)\n",
    "            f.close()\n",
    "            #break\n",
    "            \n",
    "    return scores\n",
    "\n",
    "scores = ddpg()"
   ]
  },
  {
   "cell_type": "code",
   "execution_count": 8,
   "metadata": {},
   "outputs": [
    {
     "data": {
      "image/png": "[encoded data removed]",
      "text/plain": [
       "<matplotlib.figure.Figure at 0x7fe3ac062898>"
      ]
     },
     "metadata": {
      "needs_background": "light"
     },
     "output_type": "display_data"
    }
   ],
   "source": [
    "fig = plt.figure()\n",
    "ax = fig.add_subplot(111)\n",
    "plt.plot(np.arange(len(scores))+1, scores)\n",
    "plt.ylabel('Score')\n",
    "plt.xlabel('Episode #')\n",
    "plt.show()"
   ]
  },
  {
   "cell_type": "markdown",
   "metadata": {},
   "source": [
    "When finished, you can close the environment."
   ]
  },
  {
   "cell_type": "markdown",
   "metadata": {},
   "source": [
    "### 3. Test the trained agent"
   ]
  },
  {
   "cell_type": "raw",
   "metadata": {},
   "source": [
    "# Change the path to the checkpoint files to use newly trained model weights\n",
    "agent.actor_local.load_state_dict(torch.load('saved/checkpoint_actor.pth'))\n",
    "agent.critic_local.load_state_dict(torch.load('saved/checkpoint_critic.pth'))\n",
    "\n",
    "for i in range(1, 11):                                     # play game for 5 episodes\n",
    "    env_info = env.reset(train_mode=False)[brain_name]     # reset the environment    \n",
    "    states = env_info.vector_observations                  # get the current state (for each agent)\n",
    "    scores = np.zeros(num_agents)                          # initialize the score (for each agent)\n",
    "    while True:\n",
    "        actions = agent.act(states)                        # select an action (for each agent)\n",
    "        actions = np.clip(actions, -1, 1)                  # all actions between -1 and 1\n",
    "        env_info = env.step(actions)[brain_name]           # send all actions to tne environment\n",
    "        next_states = env_info.vector_observations         # get next state (for each agent)\n",
    "        rewards = env_info.rewards                         # get reward (for each agent)\n",
    "        dones = env_info.local_done                        # see if episode finished\n",
    "        scores += env_info.rewards                         # update the score (for each agent)\n",
    "        states = next_states                               # roll over states to next time step\n",
    "        if np.any(dones):                                  # exit loop if episode finished\n",
    "            break\n",
    "    print('Score (max over agents) from episode {}: {}'.format(i, np.max(scores)))"
   ]
  },
  {
   "cell_type": "markdown",
   "metadata": {},
   "source": [
    "### 4. Close environment"
   ]
  },
  {
   "cell_type": "code",
   "execution_count": 9,
   "metadata": {},
   "outputs": [],
   "source": [
    "env.close()"
   ]
  }
 ],
 "metadata": {
  "kernelspec": {
   "display_name": "Python 3",
   "language": "python",
   "name": "python3"
  },
  "language_info": {
   "codemirror_mode": {
    "name": "ipython",
    "version": 3
   },
   "file_extension": ".py",
   "mimetype": "text/x-python",
   "name": "python",
   "nbconvert_exporter": "python",
   "pygments_lexer": "ipython3",
   "version": "3.6.3"
  }
 },
 "nbformat": 4,
 "nbformat_minor": 2
}
