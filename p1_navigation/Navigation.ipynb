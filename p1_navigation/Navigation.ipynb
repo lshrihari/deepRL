{
 "cells": [
  {
   "cell_type": "markdown",
   "metadata": {},
   "source": [
    "# Navigation"
   ]
  },
  {
   "cell_type": "markdown",
   "metadata": {},
   "source": [
    "### Start the Environment"
   ]
  },
  {
   "cell_type": "code",
   "execution_count": 1,
   "metadata": {},
   "outputs": [],
   "source": [
    "from unityagents import UnityEnvironment\n",
    "import numpy as np\n",
    "from matplotlib import pyplot as plt\n",
    "%matplotlib inline\n",
    "from collections import deque\n",
    "from dqn_agent import Agent\n",
    "import torch\n",
    "from learn_alg import dqn"
   ]
  },
  {
   "cell_type": "code",
   "execution_count": 2,
   "metadata": {},
   "outputs": [
    {
     "name": "stderr",
     "output_type": "stream",
     "text": [
      "INFO:unityagents:\n",
      "'Academy' started successfully!\n",
      "Unity Academy name: Academy\n",
      "        Number of Brains: 1\n",
      "        Number of External Brains : 1\n",
      "        Lesson number : 0\n",
      "        Reset Parameters :\n",
      "\t\t\n",
      "Unity brain name: BananaBrain\n",
      "        Number of Visual Observations (per agent): 0\n",
      "        Vector Observation space type: continuous\n",
      "        Vector Observation space size (per agent): 37\n",
      "        Number of stacked Vector Observation: 1\n",
      "        Vector Action space type: discrete\n",
      "        Vector Action space size (per agent): 4\n",
      "        Vector Action descriptions: , , , \n"
     ]
    }
   ],
   "source": [
    "env = UnityEnvironment(file_name=\"../Banana_Windows_x86_64/Banana.exe\")"
   ]
  },
  {
   "cell_type": "markdown",
   "metadata": {},
   "source": [
    "### Get the default brain"
   ]
  },
  {
   "cell_type": "code",
   "execution_count": 3,
   "metadata": {},
   "outputs": [
    {
     "name": "stdout",
     "output_type": "stream",
     "text": [
      "BananaBrain\n",
      "Unity brain name: BananaBrain\n",
      "        Number of Visual Observations (per agent): 0\n",
      "        Vector Observation space type: continuous\n",
      "        Vector Observation space size (per agent): 37\n",
      "        Number of stacked Vector Observation: 1\n",
      "        Vector Action space type: discrete\n",
      "        Vector Action space size (per agent): 4\n",
      "        Vector Action descriptions: , , , \n"
     ]
    }
   ],
   "source": [
    "brain_name = env.brain_names[0]\n",
    "print(brain_name)\n",
    "brain = env.brains[brain_name]\n",
    "print(brain)"
   ]
  },
  {
   "cell_type": "markdown",
   "metadata": {},
   "source": [
    "### Examine the State and Action Spaces\n",
    "\n",
    "The simulation contains a single agent that navigates a large environment.  At each time step, it has four actions at its disposal:\n",
    "- `0` - walk forward \n",
    "- `1` - walk backward\n",
    "- `2` - turn left\n",
    "- `3` - turn right\n",
    "\n",
    "The state space has `37` dimensions and contains the agent's velocity, along with ray-based perception of objects around agent's forward direction.  A reward of `+1` is provided for collecting a yellow banana, and a reward of `-1` is provided for collecting a blue banana. "
   ]
  },
  {
   "cell_type": "code",
   "execution_count": 4,
   "metadata": {},
   "outputs": [
    {
     "name": "stdout",
     "output_type": "stream",
     "text": [
      "Number of agents: 1\n",
      "Number of actions: 4\n",
      "States look like: [1.         0.         0.         0.         0.84408134 0.\n",
      " 0.         1.         0.         0.0748472  0.         1.\n",
      " 0.         0.         0.25755    1.         0.         0.\n",
      " 0.         0.74177343 0.         1.         0.         0.\n",
      " 0.25854847 0.         0.         1.         0.         0.09355672\n",
      " 0.         1.         0.         0.         0.31969345 0.\n",
      " 0.        ]\n",
      "States have length: 37\n"
     ]
    }
   ],
   "source": [
    "# reset the environment\n",
    "env_info = env.reset(train_mode=True)[brain_name]\n",
    "\n",
    "# number of agents in the environment\n",
    "print('Number of agents:', len(env_info.agents))\n",
    "\n",
    "# number of actions\n",
    "action_size = brain.vector_action_space_size\n",
    "print('Number of actions:', action_size)\n",
    "\n",
    "# examine the state space \n",
    "state = env_info.vector_observations[0]\n",
    "print('States look like:', state)\n",
    "state_size = len(state)\n",
    "print('States have length:', state_size)"
   ]
  },
  {
   "cell_type": "markdown",
   "metadata": {},
   "source": [
    "### Random interaction with environment"
   ]
  },
  {
   "cell_type": "raw",
   "metadata": {},
   "source": [
    "env_info = env.reset(train_mode=False)[brain_name] # reset the environment\\n\",\n",
    "state = env_info.vector_observations[0]            # get the current state\\n\",\n",
    "score = 0                                          # initialize the score\\n\",\n",
    "while True:\n",
    "    action = np.random.randint(action_size)        # select an action\\n\",\n",
    "    env_info = env.step(action)[brain_name]        # send the action to the environment\\n\",\n",
    "    next_state = env_info.vector_observations[0]   # get the next state\\n\",\n",
    "    reward = env_info.rewards[0]                   # get the reward\\n\",\n",
    "    done = env_info.local_done[0]                  # see if episode has finished\\n\",\n",
    "    score += reward                                # update the score\\n\",\n",
    "    state = next_state                             # roll over the state to next time step\\n\",\n",
    "    if done:                                       # exit loop if episode finished\\n\",\n",
    "        break\n",
    "\n",
    "print(\"Score: {}\".format(score))"
   ]
  },
  {
   "cell_type": "raw",
   "metadata": {},
   "source": [
    "env.close()"
   ]
  },
  {
   "cell_type": "markdown",
   "metadata": {},
   "source": [
    "### Instantiate Agent (seed 0 assumed for repeatability)"
   ]
  },
  {
   "cell_type": "code",
   "execution_count": 5,
   "metadata": {},
   "outputs": [],
   "source": [
    "agent = Agent(state_size, action_size, seed=0)"
   ]
  },
  {
   "cell_type": "markdown",
   "metadata": {},
   "source": [
    "### DQN Learning of agent's action-value function"
   ]
  },
  {
   "cell_type": "code",
   "execution_count": 6,
   "metadata": {},
   "outputs": [
    {
     "name": "stdout",
     "output_type": "stream",
     "text": [
      "Episode 100\tAverage Score: 0.87\n",
      "Episode 200\tAverage Score: 4.99\n",
      "Episode 300\tAverage Score: 7.42\n",
      "Episode 400\tAverage Score: 10.73\n",
      "Episode 500\tAverage Score: 12.80\n",
      "Episode 511\tAverage Score: 13.00\n",
      "Environment solved in 511 episodes!\tAverage Score: 13.00\n",
      "\n",
      "\n",
      "Saving checkpoint at episode 511!\tAverage Score: 13.00\n",
      "Episode 512\tAverage Score: 13.06\n",
      "Saving checkpoint at episode 512!\tAverage Score: 13.06\n",
      "Episode 513\tAverage Score: 13.09\n",
      "Saving checkpoint at episode 513!\tAverage Score: 13.09\n",
      "Episode 514\tAverage Score: 13.11\n",
      "Saving checkpoint at episode 514!\tAverage Score: 13.11\n",
      "Episode 518\tAverage Score: 13.12\n",
      "Saving checkpoint at episode 518!\tAverage Score: 13.12\n",
      "Episode 520\tAverage Score: 13.14\n",
      "Saving checkpoint at episode 520!\tAverage Score: 13.14\n",
      "Episode 521\tAverage Score: 13.14\n",
      "Saving checkpoint at episode 521!\tAverage Score: 13.14\n",
      "Episode 522\tAverage Score: 13.16\n",
      "Saving checkpoint at episode 522!\tAverage Score: 13.16\n",
      "Episode 523\tAverage Score: 13.22\n",
      "Saving checkpoint at episode 523!\tAverage Score: 13.22\n",
      "Episode 529\tAverage Score: 13.23\n",
      "Saving checkpoint at episode 529!\tAverage Score: 13.23\n",
      "Episode 530\tAverage Score: 13.27\n",
      "Saving checkpoint at episode 530!\tAverage Score: 13.27\n",
      "Episode 531\tAverage Score: 13.35\n",
      "Saving checkpoint at episode 531!\tAverage Score: 13.35\n",
      "Episode 532\tAverage Score: 13.40\n",
      "Saving checkpoint at episode 532!\tAverage Score: 13.40\n",
      "Episode 533\tAverage Score: 13.43\n",
      "Saving checkpoint at episode 533!\tAverage Score: 13.43\n",
      "Episode 534\tAverage Score: 13.43\n",
      "Saving checkpoint at episode 534!\tAverage Score: 13.43\n",
      "Episode 539\tAverage Score: 13.45\n",
      "Saving checkpoint at episode 539!\tAverage Score: 13.45\n",
      "Episode 540\tAverage Score: 13.49\n",
      "Saving checkpoint at episode 540!\tAverage Score: 13.49\n",
      "Episode 541\tAverage Score: 13.53\n",
      "Saving checkpoint at episode 541!\tAverage Score: 13.53\n",
      "Episode 553\tAverage Score: 13.53\n",
      "Saving checkpoint at episode 553!\tAverage Score: 13.53\n",
      "Episode 554\tAverage Score: 13.56\n",
      "Saving checkpoint at episode 554!\tAverage Score: 13.56\n",
      "Episode 556\tAverage Score: 13.57\n",
      "Saving checkpoint at episode 556!\tAverage Score: 13.57\n",
      "Episode 600\tAverage Score: 13.28\n",
      "Episode 625\tAverage Score: 13.57\n",
      "Saving checkpoint at episode 625!\tAverage Score: 13.57\n",
      "Episode 626\tAverage Score: 13.62\n",
      "Saving checkpoint at episode 626!\tAverage Score: 13.62\n",
      "Episode 636\tAverage Score: 13.63\n",
      "Saving checkpoint at episode 636!\tAverage Score: 13.63\n",
      "Episode 637\tAverage Score: 13.68\n",
      "Saving checkpoint at episode 637!\tAverage Score: 13.68\n",
      "Episode 638\tAverage Score: 13.71\n",
      "Saving checkpoint at episode 638!\tAverage Score: 13.71\n",
      "Episode 640\tAverage Score: 13.72\n",
      "Saving checkpoint at episode 640!\tAverage Score: 13.72\n",
      "Episode 648\tAverage Score: 13.77\n",
      "Saving checkpoint at episode 648!\tAverage Score: 13.77\n",
      "Episode 649\tAverage Score: 13.83\n",
      "Saving checkpoint at episode 649!\tAverage Score: 13.83\n",
      "Episode 651\tAverage Score: 13.83\n",
      "Saving checkpoint at episode 651!\tAverage Score: 13.83\n",
      "Episode 652\tAverage Score: 13.85\n",
      "Saving checkpoint at episode 652!\tAverage Score: 13.85\n",
      "Episode 655\tAverage Score: 13.85\n",
      "Saving checkpoint at episode 655!\tAverage Score: 13.85\n",
      "Episode 656\tAverage Score: 13.85\n",
      "Saving checkpoint at episode 656!\tAverage Score: 13.85\n",
      "Episode 657\tAverage Score: 13.86\n",
      "Saving checkpoint at episode 657!\tAverage Score: 13.86\n",
      "Episode 658\tAverage Score: 13.98\n",
      "Saving checkpoint at episode 658!\tAverage Score: 13.98\n",
      "Episode 659\tAverage Score: 14.01\n",
      "Saving checkpoint at episode 659!\tAverage Score: 14.01\n",
      "Episode 660\tAverage Score: 14.15\n",
      "Saving checkpoint at episode 660!\tAverage Score: 14.15\n",
      "Episode 661\tAverage Score: 14.28\n",
      "Saving checkpoint at episode 661!\tAverage Score: 14.28\n",
      "Episode 662\tAverage Score: 14.43\n",
      "Saving checkpoint at episode 662!\tAverage Score: 14.43\n",
      "Episode 671\tAverage Score: 14.47\n",
      "Saving checkpoint at episode 671!\tAverage Score: 14.47\n",
      "Episode 673\tAverage Score: 14.48\n",
      "Saving checkpoint at episode 673!\tAverage Score: 14.48\n",
      "Episode 674\tAverage Score: 14.55\n",
      "Saving checkpoint at episode 674!\tAverage Score: 14.55\n",
      "Episode 678\tAverage Score: 14.56\n",
      "Saving checkpoint at episode 678!\tAverage Score: 14.56\n",
      "Episode 681\tAverage Score: 14.64\n",
      "Saving checkpoint at episode 681!\tAverage Score: 14.64\n",
      "Episode 683\tAverage Score: 14.68\n",
      "Saving checkpoint at episode 683!\tAverage Score: 14.68\n",
      "Episode 684\tAverage Score: 14.70\n",
      "Saving checkpoint at episode 684!\tAverage Score: 14.70\n",
      "Episode 687\tAverage Score: 14.83\n",
      "Saving checkpoint at episode 687!\tAverage Score: 14.83\n",
      "Episode 692\tAverage Score: 14.84\n",
      "Saving checkpoint at episode 692!\tAverage Score: 14.84\n",
      "Episode 693\tAverage Score: 14.90\n",
      "Saving checkpoint at episode 693!\tAverage Score: 14.90\n",
      "Episode 694\tAverage Score: 14.98\n",
      "Saving checkpoint at episode 694!\tAverage Score: 14.98\n",
      "Episode 695\tAverage Score: 15.01\n",
      "Saving checkpoint at episode 695!\tAverage Score: 15.01\n",
      "Episode 696\tAverage Score: 15.01\n",
      "Saving checkpoint at episode 696!\tAverage Score: 15.01\n",
      "Episode 700\tAverage Score: 14.95\n",
      "Episode 800\tAverage Score: 14.93\n",
      "Episode 810\tAverage Score: 15.02\n",
      "Saving checkpoint at episode 810!\tAverage Score: 15.02\n",
      "Episode 811\tAverage Score: 15.08\n",
      "Saving checkpoint at episode 811!\tAverage Score: 15.08\n",
      "Episode 812\tAverage Score: 15.09\n",
      "Saving checkpoint at episode 812!\tAverage Score: 15.09\n",
      "Episode 813\tAverage Score: 15.23\n",
      "Saving checkpoint at episode 813!\tAverage Score: 15.23\n",
      "Episode 814\tAverage Score: 15.28\n",
      "Saving checkpoint at episode 814!\tAverage Score: 15.28\n",
      "Episode 815\tAverage Score: 15.30\n",
      "Saving checkpoint at episode 815!\tAverage Score: 15.30\n",
      "Episode 816\tAverage Score: 15.31\n",
      "Saving checkpoint at episode 816!\tAverage Score: 15.31\n",
      "Episode 817\tAverage Score: 15.35\n",
      "Saving checkpoint at episode 817!\tAverage Score: 15.35\n",
      "Episode 819\tAverage Score: 15.35\n",
      "Saving checkpoint at episode 819!\tAverage Score: 15.35\n",
      "Episode 820\tAverage Score: 15.36\n",
      "Saving checkpoint at episode 820!\tAverage Score: 15.36\n",
      "Episode 821\tAverage Score: 15.37\n",
      "Saving checkpoint at episode 821!\tAverage Score: 15.37\n",
      "Episode 828\tAverage Score: 15.40\n",
      "Saving checkpoint at episode 828!\tAverage Score: 15.40\n",
      "Episode 829\tAverage Score: 15.48\n",
      "Saving checkpoint at episode 829!\tAverage Score: 15.48\n",
      "Episode 831\tAverage Score: 15.49\n",
      "Saving checkpoint at episode 831!\tAverage Score: 15.49\n",
      "Episode 832\tAverage Score: 15.54\n",
      "Saving checkpoint at episode 832!\tAverage Score: 15.54\n",
      "Episode 833\tAverage Score: 15.58\n",
      "Saving checkpoint at episode 833!\tAverage Score: 15.58\n",
      "Episode 836\tAverage Score: 15.61\n",
      "Saving checkpoint at episode 836!\tAverage Score: 15.61\n",
      "Episode 837\tAverage Score: 15.65\n",
      "Saving checkpoint at episode 837!\tAverage Score: 15.65\n",
      "Episode 838\tAverage Score: 15.71\n",
      "Saving checkpoint at episode 838!\tAverage Score: 15.71\n",
      "Episode 851\tAverage Score: 15.72\n",
      "Saving checkpoint at episode 851!\tAverage Score: 15.72\n",
      "Episode 852\tAverage Score: 15.76\n",
      "Saving checkpoint at episode 852!\tAverage Score: 15.76\n",
      "Episode 853\tAverage Score: 15.85\n",
      "Saving checkpoint at episode 853!\tAverage Score: 15.85\n",
      "Episode 862\tAverage Score: 15.91\n",
      "Saving checkpoint at episode 862!\tAverage Score: 15.91\n",
      "Episode 864\tAverage Score: 15.93\n",
      "Saving checkpoint at episode 864!\tAverage Score: 15.93\n",
      "Episode 892\tAverage Score: 15.94\n",
      "Saving checkpoint at episode 892!\tAverage Score: 15.94\n",
      "Episode 893\tAverage Score: 15.97\n",
      "Saving checkpoint at episode 893!\tAverage Score: 15.97\n",
      "Episode 894\tAverage Score: 16.04\n",
      "Saving checkpoint at episode 894!\tAverage Score: 16.04\n",
      "Episode 896\tAverage Score: 16.08\n",
      "Saving checkpoint at episode 896!\tAverage Score: 16.08\n",
      "Episode 900\tAverage Score: 15.93\n",
      "Episode 903\tAverage Score: 16.18\n",
      "Saving checkpoint at episode 903!\tAverage Score: 16.18\n",
      "Episode 904\tAverage Score: 16.18\n",
      "Saving checkpoint at episode 904!\tAverage Score: 16.18\n",
      "Episode 952\tAverage Score: 16.23\n",
      "Saving checkpoint at episode 952!\tAverage Score: 16.23\n",
      "Episode 957\tAverage Score: 16.26\n",
      "Saving checkpoint at episode 957!\tAverage Score: 16.26\n",
      "Episode 958\tAverage Score: 16.27\n",
      "Saving checkpoint at episode 958!\tAverage Score: 16.27\n",
      "Episode 961\tAverage Score: 16.31\n",
      "Saving checkpoint at episode 961!\tAverage Score: 16.31\n",
      "Episode 969\tAverage Score: 16.31\n",
      "Saving checkpoint at episode 969!\tAverage Score: 16.31\n",
      "Episode 970\tAverage Score: 16.37\n",
      "Saving checkpoint at episode 970!\tAverage Score: 16.37\n",
      "Episode 971\tAverage Score: 16.43\n",
      "Saving checkpoint at episode 971!\tAverage Score: 16.43\n",
      "Episode 972\tAverage Score: 16.48\n",
      "Saving checkpoint at episode 972!\tAverage Score: 16.48\n"
     ]
    },
    {
     "name": "stdout",
     "output_type": "stream",
     "text": [
      "Episode 973\tAverage Score: 16.53\n",
      "Saving checkpoint at episode 973!\tAverage Score: 16.53\n",
      "Episode 1000\tAverage Score: 16.13\n",
      "Episode 1100\tAverage Score: 14.87\n",
      "Episode 1200\tAverage Score: 15.51\n",
      "Episode 1300\tAverage Score: 16.41\n",
      "Episode 1332\tAverage Score: 16.54\n",
      "Saving checkpoint at episode 1332!\tAverage Score: 16.54\n",
      "Episode 1336\tAverage Score: 16.61\n",
      "Saving checkpoint at episode 1336!\tAverage Score: 16.61\n",
      "Episode 1337\tAverage Score: 16.62\n",
      "Saving checkpoint at episode 1337!\tAverage Score: 16.62\n",
      "Episode 1338\tAverage Score: 16.66\n",
      "Saving checkpoint at episode 1338!\tAverage Score: 16.66\n",
      "Episode 1340\tAverage Score: 16.69\n",
      "Saving checkpoint at episode 1340!\tAverage Score: 16.69\n",
      "Episode 1343\tAverage Score: 16.73\n",
      "Saving checkpoint at episode 1343!\tAverage Score: 16.73\n",
      "Episode 1400\tAverage Score: 16.17\n",
      "Episode 1495\tAverage Score: 16.74\n",
      "Saving checkpoint at episode 1495!\tAverage Score: 16.74\n",
      "Episode 1500\tAverage Score: 16.67\n",
      "Episode 1600\tAverage Score: 15.80\n",
      "Episode 1656\tAverage Score: 16.78\n",
      "Saving checkpoint at episode 1656!\tAverage Score: 16.78\n",
      "Episode 1657\tAverage Score: 16.87\n",
      "Saving checkpoint at episode 1657!\tAverage Score: 16.87\n",
      "Episode 1658\tAverage Score: 16.90\n",
      "Saving checkpoint at episode 1658!\tAverage Score: 16.90\n",
      "Episode 1659\tAverage Score: 16.94\n",
      "Saving checkpoint at episode 1659!\tAverage Score: 16.94\n",
      "Episode 1660\tAverage Score: 16.94\n",
      "Saving checkpoint at episode 1660!\tAverage Score: 16.94\n",
      "Episode 1661\tAverage Score: 16.98\n",
      "Saving checkpoint at episode 1661!\tAverage Score: 16.98\n",
      "Episode 1662\tAverage Score: 17.07\n",
      "Saving checkpoint at episode 1662!\tAverage Score: 17.07\n",
      "Episode 1663\tAverage Score: 17.09\n",
      "Saving checkpoint at episode 1663!\tAverage Score: 17.09\n",
      "Episode 1665\tAverage Score: 17.10\n",
      "Saving checkpoint at episode 1665!\tAverage Score: 17.10\n",
      "Episode 1700\tAverage Score: 16.93\n",
      "Episode 1800\tAverage Score: 15.91\n",
      "Episode 1900\tAverage Score: 16.72\n",
      "Episode 2000\tAverage Score: 16.37\n"
     ]
    }
   ],
   "source": [
    "scores = dqn(agent, brain_name, env)"
   ]
  },
  {
   "cell_type": "markdown",
   "metadata": {},
   "source": [
    "### Plot the scores"
   ]
  },
  {
   "cell_type": "code",
   "execution_count": 7,
   "metadata": {},
   "outputs": [
    {
     "data": {
      "image/png": "[encoded data removed]",
      "text/plain": [
       "<Figure size 432x288 with 1 Axes>"
      ]
     },
     "metadata": {
      "needs_background": "light"
     },
     "output_type": "display_data"
    }
   ],
   "source": [
    "fig = plt.figure()\n",
    "ax = fig.add_subplot(111)\n",
    "plt.plot(np.arange(len(scores)), scores)\n",
    "plt.ylabel('Score')\n",
    "plt.xlabel('Episode #')\n",
    "plt.show()"
   ]
  },
  {
   "cell_type": "markdown",
   "metadata": {},
   "source": [
    "### Test Agent learning outcomes using action value function learnt before (3 test runs)"
   ]
  },
  {
   "cell_type": "code",
   "execution_count": 8,
   "metadata": {},
   "outputs": [
    {
     "name": "stdout",
     "output_type": "stream",
     "text": [
      "Score: 23.0\n",
      "Score: 16.0\n",
      "Score: 17.0\n"
     ]
    }
   ],
   "source": [
    "agent.qnetwork_local.load_state_dict(torch.load('checkpoint.pth'))\n",
    "\n",
    "for i in range(3):\n",
    "    env_info = env.reset(train_mode=False)[brain_name] # reset the environment\n",
    "    state = env_info.vector_observations[0]            # get the current state\n",
    "    score = 0                                          # initialize the score\n",
    "    while True:\n",
    "        action = agent.act(state)                      # select an action\n",
    "        action = action.astype(int)\n",
    "        env_info = env.step(action)[brain_name]        # send the action to the environment\n",
    "        next_state = env_info.vector_observations[0]   # get the next state\n",
    "        reward = env_info.rewards[0]                   # get the reward\n",
    "        done = env_info.local_done[0]                  # see if episode has finished\n",
    "        score += reward                                # update the score\n",
    "        state = next_state                             # roll over the state to next time step\n",
    "        if done:                                       # exit loop if episode finished\n",
    "            break\n",
    "\n",
    "    print(\"Score: {}\".format(score))\n"
   ]
  },
  {
   "cell_type": "markdown",
   "metadata": {},
   "source": [
    "### Close environment"
   ]
  },
  {
   "cell_type": "code",
   "execution_count": 9,
   "metadata": {},
   "outputs": [],
   "source": [
    "env.close()"
   ]
  }
 ],
 "metadata": {
  "kernelspec": {
   "display_name": "Python 3",
   "language": "python",
   "name": "python3"
  },
  "language_info": {
   "codemirror_mode": {
    "name": "ipython",
    "version": 3
   },
   "file_extension": ".py",
   "mimetype": "text/x-python",
   "name": "python",
   "nbconvert_exporter": "python",
   "pygments_lexer": "ipython3",
   "version": "3.6.9"
  }
 },
 "nbformat": 4,
 "nbformat_minor": 2
}
